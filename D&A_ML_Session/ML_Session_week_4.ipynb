{
 "cells": [
  {
   "attachments": {},
   "cell_type": "markdown",
   "metadata": {},
   "source": [
    "### 2020 KMU D&A Machine Learning Session Week 4"
   ]
  },
  {
   "cell_type": "code",
   "execution_count": 1,
   "metadata": {},
   "outputs": [],
   "source": [
    "import pandas as pd \n",
    "import numpy as np\n",
    "import warnings\n",
    "\n",
    "warnings.filterwarnings(action='ignore')\n",
    "\n",
    "train = pd.read_csv('data/w4/tr_train.csv', encoding='utf-8')\n",
    "test = pd.read_csv('data/w4/tr_test.csv', encoding='utf-8')"
   ]
  },
  {
   "cell_type": "code",
   "execution_count": 2,
   "metadata": {},
   "outputs": [],
   "source": [
    "cust_train = pd.read_csv('data/w4/cust_train.csv', encoding='utf-8')\n",
    "cust_test = pd.read_csv('data/w4/cust_test.csv', encoding = 'utf-8')"
   ]
  },
  {
   "cell_type": "code",
   "execution_count": 3,
   "metadata": {},
   "outputs": [],
   "source": [
    "train['PD_BUY_AM'] = train['PD_BUY_AM'].map(lambda x : int(str(x).replace(',','')))\n",
    "train['PD_BUY_CT']  = train['PD_BUY_CT'].map(lambda x: int(str(x).replace(',','')))\n",
    "test['PD_BUY_AM']  = test['PD_BUY_AM'].map(lambda x: int(str(x).replace(',','')))\n",
    "test['PD_BUY_CT']  = test['PD_BUY_CT'].map(lambda x: int(str(x).replace(',','')))\n",
    "\n",
    "train['TOT_PAG_VIEW_CT'].fillna(0, inplace=True)\n",
    "train['TOT_PAG_VIEW_CT'] = train['TOT_PAG_VIEW_CT'].apply(lambda x: int(x))\n",
    "\n",
    "test['TOT_PAG_VIEW_CT'].fillna(0, inplace=True)\n",
    "test['TOT_PAG_VIEW_CT'] = test['TOT_PAG_VIEW_CT'].apply(lambda x: int(x))\n",
    "\n",
    "train['TOT_SESS_HR_V'].fillna(0, inplace=True)\n",
    "train['TOT_SESS_HR_V'] = train['TOT_SESS_HR_V'].apply(lambda x: int(x.replace(',','')))\n",
    "\n",
    "test['TOT_SESS_HR_V'].fillna(0, inplace=True)\n",
    "test['TOT_SESS_HR_V'] = test['TOT_SESS_HR_V'].apply(lambda x: int(x.replace(',','')))"
   ]
  },
  {
   "cell_type": "code",
   "execution_count": 4,
   "metadata": {},
   "outputs": [],
   "source": [
    "train.drop(columns=['CITY_NM', 'ZON_NM', 'PD_NM'], inplace=True)\n",
    "test.drop(columns=['CITY_NM', 'ZON_NM', 'PD_NM'], inplace=True)"
   ]
  },
  {
   "cell_type": "code",
   "execution_count": 5,
   "metadata": {},
   "outputs": [],
   "source": [
    "features_train = []\n",
    "features_test = []"
   ]
  },
  {
   "cell_type": "code",
   "execution_count": 6,
   "metadata": {},
   "outputs": [],
   "source": [
    "# 고객별 총 구매 금액, 평균 구매액\n",
    "train['AMOUNT'] = train['PD_BUY_AM'] * train['PD_BUY_CT']\n",
    "test['AMOUNT'] = test['PD_BUY_AM'] * test['PD_BUY_CT']\n",
    "\n",
    "f = train.groupby('CLNT_ID')['AMOUNT'].agg([('총 구매금액', np.sum),\n",
    "                                            ('평균 구매액', lambda x : np.round(np.mean(x)))]).reset_index()\n",
    "features_train.append(f)\n",
    "\n",
    "f = test.groupby('CLNT_ID')['AMOUNT'].agg([('총 구매금액', np.sum),\n",
    "                                            ('평균 구매액', lambda x : np.round(np.mean(x)))]).reset_index()\n",
    "features_test.append(f)"
   ]
  },
  {
   "cell_type": "code",
   "execution_count": 7,
   "metadata": {},
   "outputs": [],
   "source": [
    "# 주말 방문 비율\n",
    "train['date'] = pd.to_datetime(train['SESS_DT'], format='%Y%m%d')\n",
    "test['date'] = pd.to_datetime(test['SESS_DT'], format='%Y%m%d')\n",
    "\n",
    "f = train.groupby('CLNT_ID')['date'].agg([('주말방문비율', lambda x : np.mean(x.dt.dayofweek > 4))]).reset_index()\n",
    "features_train.append(f)\n",
    "\n",
    "f = test.groupby('CLNT_ID')['date'].agg([('주말방문비율', lambda x : np.mean(x.dt.dayofweek > 4))]).reset_index()\n",
    "features_test.append(f)"
   ]
  },
  {
   "cell_type": "code",
   "execution_count": 8,
   "metadata": {},
   "outputs": [],
   "source": [
    "# 고객별 총 세션 시간 평균\n",
    "f = train.groupby('CLNT_ID')['TOT_SESS_HR_V'].mean().reset_index()\n",
    "features_train.append(f)\n",
    "\n",
    "f = test.groupby('CLNT_ID')['TOT_SESS_HR_V'].mean().reset_index()\n",
    "features_test.append(f)"
   ]
  },
  {
   "cell_type": "code",
   "execution_count": 10,
   "metadata": {},
   "outputs": [],
   "source": [
    "# 고객별 접속 기기\n",
    "f = pd.get_dummies(train[['CLNT_ID', 'DVC_CTG_NM']].groupby('CLNT_ID').max())\n",
    "features_train.append(f)\n",
    "\n",
    "f = pd.get_dummies(test[['CLNT_ID', 'DVC_CTG_NM']].groupby('CLNT_ID').max())\n",
    "features_test.append(f)"
   ]
  },
  {
   "cell_type": "code",
   "execution_count": 11,
   "metadata": {},
   "outputs": [],
   "source": [
    "# 구매횟수 / 검색횟수\n",
    "d1 = train.groupby('CLNT_ID')['PD_BUY_CT'].sum().reset_index()\n",
    "d2 = train.groupby('CLNT_ID')['SEARCH_CNT'].sum().reset_index()\n",
    "d3 = pd.merge(d1, d2, on=['CLNT_ID'])\n",
    "d3['BUY_RATE'] = d3['PD_BUY_CT'] / d3['SEARCH_CNT']\n",
    "features_train.append(d3.drop(columns=['PD_BUY_CT', 'SEARCH_CNT']))\n",
    "\n",
    "d1 = test.groupby('CLNT_ID')['PD_BUY_CT'].sum().reset_index()\n",
    "d2 = test.groupby('CLNT_ID')['SEARCH_CNT'].sum().reset_index()\n",
    "d3 = pd.merge(d1, d2, on=['CLNT_ID'])\n",
    "d3['BUY_RATE'] = d3['PD_BUY_CT'] / d3['SEARCH_CNT']\n",
    "features_test.append(d3.drop(columns=['PD_BUY_CT', 'SEARCH_CNT']))"
   ]
  },
  {
   "cell_type": "code",
   "execution_count": 12,
   "metadata": {},
   "outputs": [],
   "source": [
    "# 고객별 페이지 조회 횟수 평균\n",
    "f = train.groupby('CLNT_ID')['TOT_PAG_VIEW_CT'].mean().reset_index()\n",
    "features_train.append(f)\n",
    "\n",
    "f = test.groupby('CLNT_ID')['TOT_PAG_VIEW_CT'].mean().reset_index()\n",
    "features_test.append(f)"
   ]
  },
  {
   "cell_type": "code",
   "execution_count": 13,
   "metadata": {},
   "outputs": [],
   "source": [
    "# 고객별 구매한 브랜드 종류 수\n",
    "f = train.groupby('CLNT_ID')['PD_BRA_NM'].agg([('브랜드 수', lambda x : x.nunique())]).reset_index()\n",
    "features_train.append(f)\n",
    "\n",
    "f = test.groupby('CLNT_ID')['PD_BRA_NM'].agg([('브랜드 수', lambda x : x.nunique())]).reset_index()\n",
    "features_test.append(f)"
   ]
  },
  {
   "cell_type": "code",
   "execution_count": 14,
   "metadata": {},
   "outputs": [],
   "source": [
    "# 방문 요일\n",
    "f = train.groupby('CLNT_ID')['date'].agg([('요일',lambda x : np.max(x.dt.dayofweek))]).reset_index()\n",
    "features_train.append(f)\n",
    "\n",
    "f = test.groupby('CLNT_ID')['date'].agg([('요일',lambda x : np.max(x.dt.dayofweek))]).reset_index()\n",
    "features_test.append(f)"
   ]
  },
  {
   "cell_type": "code",
   "execution_count": 15,
   "metadata": {},
   "outputs": [],
   "source": [
    "# 검색 키워드수\n",
    "features_train.append(train.groupby('CLNT_ID')['KWD_NM'].agg([('키워드 수', lambda x : x.nunique())]).reset_index())\n",
    "features_test.append(test.groupby('CLNT_ID')['KWD_NM'].agg([('키워드 수', lambda x : x.nunique())]).reset_index())"
   ]
  },
  {
   "cell_type": "code",
   "execution_count": 16,
   "metadata": {},
   "outputs": [],
   "source": [
    "# 방문 횟수\n",
    "features_train.append(train.groupby('CLNT_ID')['date'].agg([('방문횟수', lambda x: x.nunique())]).reset_index())\n",
    "features_test.append(test.groupby('CLNT_ID')['date'].agg([('방문횟수', lambda x: x.nunique())]).reset_index())"
   ]
  },
  {
   "cell_type": "code",
   "execution_count": 17,
   "metadata": {},
   "outputs": [],
   "source": [
    "# 구매주기\n",
    "f = train.groupby('CLNT_ID')['date'].agg([('구매주기', lambda x: int(((x.max() - x.min()).days) / x.nunique()))]).reset_index()\n",
    "features_train.append(f)\n",
    "f = test.groupby('CLNT_ID')['date'].agg([('구매주기', lambda x: int(((x.max() - x.min()).days) / x.nunique()))]).reset_index()\n",
    "features_test.append(f)"
   ]
  },
  {
   "cell_type": "code",
   "execution_count": 18,
   "metadata": {},
   "outputs": [
    {
     "data": {
      "text/html": [
       "<style>#sk-container-id-1 {color: black;background-color: white;}#sk-container-id-1 pre{padding: 0;}#sk-container-id-1 div.sk-toggleable {background-color: white;}#sk-container-id-1 label.sk-toggleable__label {cursor: pointer;display: block;width: 100%;margin-bottom: 0;padding: 0.3em;box-sizing: border-box;text-align: center;}#sk-container-id-1 label.sk-toggleable__label-arrow:before {content: \"▸\";float: left;margin-right: 0.25em;color: #696969;}#sk-container-id-1 label.sk-toggleable__label-arrow:hover:before {color: black;}#sk-container-id-1 div.sk-estimator:hover label.sk-toggleable__label-arrow:before {color: black;}#sk-container-id-1 div.sk-toggleable__content {max-height: 0;max-width: 0;overflow: hidden;text-align: left;background-color: #f0f8ff;}#sk-container-id-1 div.sk-toggleable__content pre {margin: 0.2em;color: black;border-radius: 0.25em;background-color: #f0f8ff;}#sk-container-id-1 input.sk-toggleable__control:checked~div.sk-toggleable__content {max-height: 200px;max-width: 100%;overflow: auto;}#sk-container-id-1 input.sk-toggleable__control:checked~label.sk-toggleable__label-arrow:before {content: \"▾\";}#sk-container-id-1 div.sk-estimator input.sk-toggleable__control:checked~label.sk-toggleable__label {background-color: #d4ebff;}#sk-container-id-1 div.sk-label input.sk-toggleable__control:checked~label.sk-toggleable__label {background-color: #d4ebff;}#sk-container-id-1 input.sk-hidden--visually {border: 0;clip: rect(1px 1px 1px 1px);clip: rect(1px, 1px, 1px, 1px);height: 1px;margin: -1px;overflow: hidden;padding: 0;position: absolute;width: 1px;}#sk-container-id-1 div.sk-estimator {font-family: monospace;background-color: #f0f8ff;border: 1px dotted black;border-radius: 0.25em;box-sizing: border-box;margin-bottom: 0.5em;}#sk-container-id-1 div.sk-estimator:hover {background-color: #d4ebff;}#sk-container-id-1 div.sk-parallel-item::after {content: \"\";width: 100%;border-bottom: 1px solid gray;flex-grow: 1;}#sk-container-id-1 div.sk-label:hover label.sk-toggleable__label {background-color: #d4ebff;}#sk-container-id-1 div.sk-serial::before {content: \"\";position: absolute;border-left: 1px solid gray;box-sizing: border-box;top: 0;bottom: 0;left: 50%;z-index: 0;}#sk-container-id-1 div.sk-serial {display: flex;flex-direction: column;align-items: center;background-color: white;padding-right: 0.2em;padding-left: 0.2em;position: relative;}#sk-container-id-1 div.sk-item {position: relative;z-index: 1;}#sk-container-id-1 div.sk-parallel {display: flex;align-items: stretch;justify-content: center;background-color: white;position: relative;}#sk-container-id-1 div.sk-item::before, #sk-container-id-1 div.sk-parallel-item::before {content: \"\";position: absolute;border-left: 1px solid gray;box-sizing: border-box;top: 0;bottom: 0;left: 50%;z-index: -1;}#sk-container-id-1 div.sk-parallel-item {display: flex;flex-direction: column;z-index: 1;position: relative;background-color: white;}#sk-container-id-1 div.sk-parallel-item:first-child::after {align-self: flex-end;width: 50%;}#sk-container-id-1 div.sk-parallel-item:last-child::after {align-self: flex-start;width: 50%;}#sk-container-id-1 div.sk-parallel-item:only-child::after {width: 0;}#sk-container-id-1 div.sk-dashed-wrapped {border: 1px dashed gray;margin: 0 0.4em 0.5em 0.4em;box-sizing: border-box;padding-bottom: 0.4em;background-color: white;}#sk-container-id-1 div.sk-label label {font-family: monospace;font-weight: bold;display: inline-block;line-height: 1.2em;}#sk-container-id-1 div.sk-label-container {text-align: center;}#sk-container-id-1 div.sk-container {/* jupyter's `normalize.less` sets `[hidden] { display: none; }` but bootstrap.min.css set `[hidden] { display: none !important; }` so we also need the `!important` here to be able to override the default hidden behavior on the sphinx rendered scikit-learn.org. See: https://github.com/scikit-learn/scikit-learn/issues/21755 */display: inline-block !important;position: relative;}#sk-container-id-1 div.sk-text-repr-fallback {display: none;}</style><div id=\"sk-container-id-1\" class=\"sk-top-container\"><div class=\"sk-text-repr-fallback\"><pre>LabelEncoder()</pre><b>In a Jupyter environment, please rerun this cell to show the HTML representation or trust the notebook. <br />On GitHub, the HTML representation is unable to render, please try loading this page with nbviewer.org.</b></div><div class=\"sk-container\" hidden><div class=\"sk-item\"><div class=\"sk-estimator sk-toggleable\"><input class=\"sk-toggleable__control sk-hidden--visually\" id=\"sk-estimator-id-1\" type=\"checkbox\" checked><label for=\"sk-estimator-id-1\" class=\"sk-toggleable__label sk-toggleable__label-arrow\">LabelEncoder</label><div class=\"sk-toggleable__content\"><pre>LabelEncoder()</pre></div></div></div></div></div>"
      ],
      "text/plain": [
       "LabelEncoder()"
      ]
     },
     "execution_count": 18,
     "metadata": {},
     "output_type": "execute_result"
    }
   ],
   "source": [
    "# A분류 라벨인코딩\n",
    "from sklearn.preprocessing import LabelEncoder\n",
    "CLASS = train['CLAC1_NM'].unique()\n",
    "for cl in test['CLAC1_NM'].unique():\n",
    "    if cl not in CLASS:\n",
    "        CLASS.append(cl)\n",
    "encoder = LabelEncoder()\n",
    "encoder.fit(CLASS)"
   ]
  },
  {
   "cell_type": "code",
   "execution_count": 19,
   "metadata": {},
   "outputs": [],
   "source": [
    "train['C1_LAB'] = encoder.transform(train['CLAC1_NM'])\n",
    "test['C1_LAB'] = encoder.transform(test['CLAC1_NM'])\n",
    "\n",
    "f = train[['CLNT_ID','C1_LAB']].groupby(['CLNT_ID','C1_LAB']).size().groupby('CLNT_ID').max()\n",
    "f = pd.DataFrame({'CLNT_ID':f.index,'class_max_count':f.values})\n",
    "features_train.append(f)\n",
    "\n",
    "f = test[['CLNT_ID','C1_LAB']].groupby(['CLNT_ID','C1_LAB']).size().groupby('CLNT_ID').max()\n",
    "f = pd.DataFrame({'CLNT_ID':f.index,'class_max_count':f.values})\n",
    "features_test.append(f)"
   ]
  },
  {
   "cell_type": "code",
   "execution_count": 20,
   "metadata": {},
   "outputs": [],
   "source": [
    "# C분류 상품종류\n",
    "f = train.groupby('CLNT_ID')['CLAC3_NM'].agg([ ('상품종류', lambda x : x.nunique()) ]).reset_index()\n",
    "features_train.append(f)\n",
    "f = test.groupby('CLNT_ID')['CLAC3_NM'].agg([ ('상품종류', lambda x : x.nunique()) ]).reset_index()\n",
    "features_test.append(f)"
   ]
  },
  {
   "cell_type": "code",
   "execution_count": 21,
   "metadata": {},
   "outputs": [],
   "source": [
    "# 고가상품구매율\n",
    "train['PD_PRICE'] = train['PD_BUY_AM'] / train['PD_BUY_CT']\n",
    "price_4q = train.groupby('PD_C')['PD_PRICE'].mean().quantile([.25,.5,.75])\n",
    "f = (train.groupby('CLNT_ID')['PD_PRICE']\n",
    "     .agg([('고가상품구매율', lambda x: (x > price_4q.iloc[2]).mean().round(2))])\n",
    "     .reset_index())\n",
    "features_train.append(f)\n",
    "\n",
    "test['PD_PRICE'] = test['PD_BUY_AM'] / test['PD_BUY_CT']\n",
    "price_4q = test.groupby('PD_C')['PD_PRICE'].mean().quantile([.25,.5,.75])\n",
    "f = (test.groupby('CLNT_ID')['PD_PRICE']\n",
    "     .agg([('고가상품구매율', lambda x: (x > price_4q.iloc[2]).mean().round(2))])\n",
    "     .reset_index())\n",
    "features_test.append(f)"
   ]
  },
  {
   "cell_type": "code",
   "execution_count": 22,
   "metadata": {},
   "outputs": [],
   "source": [
    "# A분류 상품별 카운팅\n",
    "temp = train.copy()\n",
    "scdata = pd.DataFrame({'CLNT_ID': np.sort(train.CLNT_ID.unique())})\n",
    "for cate in CLASS:\n",
    "    temp[cate] = 0\n",
    "    temp.loc[(temp['CLAC1_NM'] == cate), cate] = 1\n",
    "    ttt2 = temp.groupby('CLNT_ID')[cate].agg([(cate, np.sum)]).reset_index()\n",
    "    scdata = pd.merge(scdata, ttt2, how='left')\n",
    "scdata = scdata.fillna(0)\n",
    "features_train.append(scdata)\n",
    "\n",
    "temp = test.copy()\n",
    "scdata = pd.DataFrame({'CLNT_ID': np.sort(test.CLNT_ID.unique())})\n",
    "for cate in CLASS:\n",
    "    temp[cate] = 0\n",
    "    temp.loc[(temp['CLAC1_NM'] == cate), cate] = 1\n",
    "    ttt2 = temp.groupby('CLNT_ID')[cate].agg([(cate, np.sum)]).reset_index()\n",
    "    scdata = pd.merge(scdata, ttt2, how='left')\n",
    "scdata = scdata.fillna(0)\n",
    "features_test.append(scdata)"
   ]
  },
  {
   "attachments": {},
   "cell_type": "markdown",
   "metadata": {},
   "source": [
    "#### Feature 생성"
   ]
  },
  {
   "cell_type": "code",
   "execution_count": 23,
   "metadata": {},
   "outputs": [],
   "source": [
    "data_train = pd.DataFrame({'CLNT_ID':np.sort(train.CLNT_ID.unique())})\n",
    "for f in features_train:\n",
    "    data_train = pd.merge(data_train, f, on=['CLNT_ID'], how='left')\n",
    "    \n",
    "data_test = pd.DataFrame({'CLNT_ID':np.sort(test.CLNT_ID.unique())})\n",
    "for f in features_test:\n",
    "    data_test = pd.merge(data_test, f, on=['CLNT_ID'], how='left')"
   ]
  },
  {
   "attachments": {},
   "cell_type": "markdown",
   "metadata": {},
   "source": [
    "#### ABC분석"
   ]
  },
  {
   "cell_type": "code",
   "execution_count": 24,
   "metadata": {},
   "outputs": [],
   "source": [
    "f = train.groupby('CLNT_ID')['AMOUNT'].agg([('총구매액', np.sum),\n",
    "                                            ('구매건수', np.size),\n",
    "                                            ('평균구매액', lambda x : np.round(np.mean(x))),\n",
    "                                            ('최대구매액', np.max)]).reset_index()\n",
    "t_msort = f.sort_values(by='총구매액', ascending=False)\n",
    "t_msort['cum_sum'] = t_msort['총구매액'].cumsum()\n",
    "t_msort['cum_perc'] = 100*t_msort['cum_sum']/t_msort['총구매액'].sum()\n",
    "t_msort\n",
    "\n",
    "abc = t_msort.iloc[:,6]\n",
    "reset = abc.reset_index()\n",
    "del reset['index']\n",
    "reset\n",
    "\n",
    "t_msort[\"abc\"] = 0\n",
    "\n",
    "t_msort.loc[(t_msort['cum_perc'] <= 92.884075), 'abc'] = 2\n",
    "t_msort.loc[(t_msort['cum_perc'] <= 78.737587), 'abc'] = 1\n",
    "t_msort.loc[(t_msort['cum_perc'] > 92.884075), 'abc'] = 3\n",
    "\n",
    "ttt = t_msort[['CLNT_ID','abc']]\n",
    "\n",
    "data_train = pd.merge(data_train, ttt, on=['CLNT_ID'], how='left')"
   ]
  },
  {
   "cell_type": "code",
   "execution_count": 25,
   "metadata": {},
   "outputs": [],
   "source": [
    "f = test.groupby('CLNT_ID')['AMOUNT'].agg([('총구매액', np.sum),\n",
    "                                            ('구매건수', np.size),\n",
    "                                            ('평균구매액', lambda x : np.round(np.mean(x))),\n",
    "                                            ('최대구매액', np.max)]).reset_index()\n",
    "t_msort = f.sort_values(by='총구매액', ascending=False)\n",
    "t_msort['cum_sum'] = t_msort['총구매액'].cumsum()\n",
    "t_msort['cum_perc'] = 100*t_msort['cum_sum']/t_msort['총구매액'].sum()\n",
    "t_msort\n",
    "\n",
    "abc = t_msort.iloc[:,6]\n",
    "reset = abc.reset_index()\n",
    "del reset['index']\n",
    "reset\n",
    "\n",
    "t_msort[\"abc\"] = 0\n",
    "\n",
    "t_msort.loc[(t_msort['cum_perc'] <= 92.884075), 'abc'] = 2\n",
    "t_msort.loc[(t_msort['cum_perc'] <= 78.737587), 'abc'] = 1\n",
    "t_msort.loc[(t_msort['cum_perc'] > 92.884075), 'abc'] = 3\n",
    "\n",
    "ttt = t_msort[['CLNT_ID','abc']]\n",
    "\n",
    "data_test = pd.merge(data_test, ttt, on=['CLNT_ID'], how='left')"
   ]
  },
  {
   "cell_type": "code",
   "execution_count": 28,
   "metadata": {},
   "outputs": [],
   "source": [
    "from sklearn.preprocessing import MinMaxScaler\n",
    "from sklearn.model_selection import StratifiedKFold\n",
    "from sklearn.metrics import log_loss\n",
    "\n",
    "from sklearn.linear_model import LogisticRegression\n",
    "from sklearn.neighbors import KNeighborsClassifier\n",
    "from sklearn.svm import LinearSVC\n",
    "from sklearn.tree import DecisionTreeClassifier"
   ]
  },
  {
   "attachments": {},
   "cell_type": "markdown",
   "metadata": {},
   "source": [
    "#### cross_val_score"
   ]
  },
  {
   "cell_type": "code",
   "execution_count": 29,
   "metadata": {},
   "outputs": [],
   "source": [
    "# from sklearn.model_selection import cross_val_score\n",
    "\n",
    "# lr = LogisticRegression()\n",
    "# scores = cross_val_score(lr, data_train, cust_train['LABEL'], scoring='neg_log_loss', cv=5)\n",
    "\n",
    "# print(scores)"
   ]
  },
  {
   "attachments": {},
   "cell_type": "markdown",
   "metadata": {},
   "source": [
    "#### K-Fold 테스트"
   ]
  },
  {
   "cell_type": "code",
   "execution_count": 30,
   "metadata": {},
   "outputs": [
    {
     "name": "stdout",
     "output_type": "stream",
     "text": [
      "[1.391, 1.391, 1.391, 1.391, 1.391]\n",
      "[0.39847209289067104, 0.3987761540069554, 0.3991942380418464, 0.399061211303472, 0.398555682250095]\n"
     ]
    }
   ],
   "source": [
    "skf = StratifiedKFold(n_splits=5)\n",
    "\n",
    "cv_acc = []\n",
    "lr_score = []\n",
    "for train_idx, test_idx in skf.split(data_train, cust_train['LABEL']):\n",
    "    x_train, x_test = data_train.loc[train_idx,], data_train.loc[test_idx,]\n",
    "    y_train, y_test = cust_train.loc[train_idx,'LABEL'], cust_train.loc[test_idx,'LABEL']\n",
    "    \n",
    "    mm = MinMaxScaler()\n",
    "    mm.fit(x_train)\n",
    "    x_train = mm.transform(x_train)\n",
    "    mm.fit(x_test)\n",
    "    x_test = mm.transform(x_test)\n",
    "\n",
    "    lr = LogisticRegression()\n",
    "    lr.fit(x_train, y_train)\n",
    "    result = lr.predict_proba(x_test)\n",
    "\n",
    "#     knn = KNeighborsClassifier(n_neighbors=5)    \n",
    "#     knn.fit(x_train, y_train)\n",
    "#     result = knn.predict_proba(x_test)\n",
    "\n",
    "#     tree = DecisionTreeClassifier(random_state=10)\n",
    "#     tree.fit(x_train,y_train)\n",
    "#     result = tree.predict_proba(x_test)\n",
    "\n",
    "    acc = np.round(log_loss(y_test, result), 3)\n",
    "    cv_acc.append(acc)\n",
    "    lr_score.append(lr.score(x_test, y_test))\n",
    "    \n",
    "print(cv_acc)\n",
    "print(lr_score)"
   ]
  },
  {
   "attachments": {},
   "cell_type": "markdown",
   "metadata": {},
   "source": [
    "#### Submission"
   ]
  },
  {
   "cell_type": "code",
   "execution_count": 32,
   "metadata": {},
   "outputs": [],
   "source": [
    "from sklearn.linear_model import LogisticRegression\n",
    "\n",
    "# 정규화\n",
    "mm = MinMaxScaler()\n",
    "mm.fit(x_train)\n",
    "x_train = mm.transform(x_train)\n",
    "mm.fit(x_test)\n",
    "x_test = mm.transform(x_test)\n",
    "\n",
    "# 모델 생성 및 학습\n",
    "lr = LogisticRegression()\n",
    "lr.fit(data_train, cust_train.LABEL)\n",
    "\n",
    "# 테스트 데이터 예측\n",
    "pred = pd.DataFrame(lr.predict_proba(data_test))\n",
    "\n",
    "# 결과값 정제 및 내보내기\n",
    "result = pd.concat([cust_test.CLNT_ID,pred],axis=1)\n",
    "result.columns = ['CLNT_ID','F20','F30','F40','M20','M30','M40']\n",
    "result.to_csv('data/w4/submit.csv',index=False)"
   ]
  },
  {
   "attachments": {},
   "cell_type": "markdown",
   "metadata": {},
   "source": [
    "#### 파라미터 튜닝"
   ]
  },
  {
   "cell_type": "code",
   "execution_count": 33,
   "metadata": {},
   "outputs": [],
   "source": [
    "import pandas as pd\n",
    "from sklearn.model_selection import train_test_split\n",
    "# 모델 생성, 하이퍼파라미터 튜닝\n",
    "from sklearn.tree import DecisionTreeClassifier\n",
    "from sklearn.model_selection import GridSearchCV\n",
    "from sklearn.model_selection import RandomizedSearchCV\n",
    "#평가지표\n",
    "from sklearn.metrics import mean_squared_error\n",
    "from sklearn.metrics import log_loss\n",
    "from sklearn.metrics import confusion_matrix\n",
    "from sklearn.metrics import accuracy_score, precision_score, recall_score, f1_score\n",
    "from sklearn.metrics import roc_auc_score, roc_curve\n",
    "import matplotlib.pyplot as plt"
   ]
  },
  {
   "cell_type": "code",
   "execution_count": 34,
   "metadata": {},
   "outputs": [],
   "source": [
    "X_train, X_test, y_train, y_test = train_test_split(data_train,cust_train['LABEL'],stratify=cust_train['LABEL'],random_state=66)"
   ]
  },
  {
   "attachments": {},
   "cell_type": "markdown",
   "metadata": {},
   "source": [
    "#### Tree 파라미터 수정"
   ]
  },
  {
   "cell_type": "code",
   "execution_count": 35,
   "metadata": {},
   "outputs": [
    {
     "name": "stdout",
     "output_type": "stream",
     "text": [
      "0.3006871807346144\n"
     ]
    }
   ],
   "source": [
    "tree = DecisionTreeClassifier(random_state = 0)\n",
    "tree.fit(X_train,y_train)\n",
    "\n",
    "print(tree.score(X_test,y_test))"
   ]
  },
  {
   "cell_type": "code",
   "execution_count": 36,
   "metadata": {},
   "outputs": [
    {
     "name": "stdout",
     "output_type": "stream",
     "text": [
      "final params {'criterion': 'entropy', 'max_depth': 4, 'min_samples_leaf': 3}\n",
      "best score 0.3990006486661802\n",
      "0.39908173193870106\n"
     ]
    }
   ],
   "source": [
    "dt = DecisionTreeClassifier(random_state = 0)\n",
    "\n",
    "param_grid={'criterion' :['gini','entropy'],\n",
    "                 'max_depth':[4,5,6,8,10],\n",
    "                 'min_samples_leaf':[3,5,10,50,100]}\n",
    "\n",
    "gcv=GridSearchCV(dt, param_grid=param_grid, cv=3, scoring='accuracy', n_jobs=-1)\n",
    "gcv.fit(X_train,y_train)\n",
    "print('final params', gcv.best_params_)   # 최적의 파라미터 값 출력\n",
    "print('best score', gcv.best_score_)      # 최고의 점수\n",
    "print(gcv.score(X_test,y_test))"
   ]
  },
  {
   "cell_type": "code",
   "execution_count": 37,
   "metadata": {},
   "outputs": [
    {
     "name": "stdout",
     "output_type": "stream",
     "text": [
      "0.3006871807346144\n"
     ]
    }
   ],
   "source": [
    "tree = DecisionTreeClassifier(random_state=0)\n",
    "tree.fit(X_train,y_train)\n",
    "\n",
    "print(tree.score(X_test,y_test))"
   ]
  },
  {
   "cell_type": "code",
   "execution_count": 38,
   "metadata": {},
   "outputs": [
    {
     "name": "stdout",
     "output_type": "stream",
     "text": [
      "final params {'min_samples_leaf': 50, 'max_depth': 5, 'criterion': 'entropy'}\n",
      "best score 0.3990057151481078\n",
      "0.39920335684748237\n"
     ]
    }
   ],
   "source": [
    "dt = DecisionTreeClassifier(random_state = 0)\n",
    "\n",
    "param_grid={'criterion' :['gini','entropy'],\n",
    "                 'max_depth':[4,5,6,8,10],\n",
    "                 'min_samples_leaf':[3,5,10,50,100]}\n",
    "\n",
    "rcv = RandomizedSearchCV(dt, param_distributions=param_grid,scoring='accuracy', n_iter=8) #8번 반복\n",
    "rcv.fit(X_train,y_train)\n",
    "print('final params', rcv.best_params_)   # 최적의 파라미터 값 출력\n",
    "print('best score', rcv.best_score_)      # 최고의 점수\n",
    "print(rcv.score(X_test,y_test))"
   ]
  },
  {
   "cell_type": "code",
   "execution_count": 39,
   "metadata": {},
   "outputs": [
    {
     "name": "stdout",
     "output_type": "stream",
     "text": [
      "기존모델 성능 :  0.3006871807346144\n",
      "grid_search 이용해 튜닝한 모델 성능 :  0.39908173193870106\n",
      "random_search 이용해 튜닝한 모델 성능 :  0.39920335684748237\n"
     ]
    }
   ],
   "source": [
    "print('기존모델 성능 : ', tree.score(X_test,y_test))\n",
    "print('grid_search 이용해 튜닝한 모델 성능 : ', gcv.score(X_test, y_test))\n",
    "print('random_search 이용해 튜닝한 모델 성능 : ', rcv.score(X_test, y_test))"
   ]
  },
  {
   "attachments": {},
   "cell_type": "markdown",
   "metadata": {},
   "source": [
    "#### LR"
   ]
  },
  {
   "cell_type": "code",
   "execution_count": 40,
   "metadata": {},
   "outputs": [
    {
     "name": "stdout",
     "output_type": "stream",
     "text": [
      "[1.391, 1.391, 1.391, 1.391, 1.391]\n",
      "[0.39847209289067104, 0.3987761540069554, 0.3991942380418464, 0.399061211303472, 0.398555682250095]\n"
     ]
    }
   ],
   "source": [
    "#기존모델\n",
    "skf = StratifiedKFold(n_splits=5)\n",
    "\n",
    "cv_acc = []\n",
    "lr_score = []\n",
    "for train_idx, test_idx in skf.split(data_train, cust_train['LABEL']):\n",
    "    x_train, x_test = data_train.loc[train_idx,], data_train.loc[test_idx,]\n",
    "    y_train, y_test = cust_train.loc[train_idx,'LABEL'], cust_train.loc[test_idx,'LABEL']\n",
    "    \n",
    "    mm = MinMaxScaler()\n",
    "    mm.fit(x_train)\n",
    "    x_train = mm.transform(x_train)\n",
    "    mm.fit(x_test)\n",
    "    x_test = mm.transform(x_test)\n",
    "\n",
    "    lr = LogisticRegression()\n",
    "    lr.fit(x_train, y_train)\n",
    "    result = lr.predict_proba(x_test)\n",
    "\n",
    "#     knn = KNeighborsClassifier(n_neighbors=5)    \n",
    "#     knn.fit(x_train, y_train)\n",
    "#     result = knn.predict_proba(x_test)\n",
    "\n",
    "#     tree = DecisionTreeClassifier(random_state=10)\n",
    "#     tree.fit(x_train,y_train)\n",
    "#     result = tree.predict_proba(x_test)\n",
    "\n",
    "    acc = np.round(log_loss(y_test, result), 3)\n",
    "    cv_acc.append(acc)\n",
    "    lr_score.append(lr.score(x_test, y_test))\n",
    "    \n",
    "print(cv_acc)\n",
    "print(lr_score)"
   ]
  },
  {
   "cell_type": "code",
   "execution_count": 41,
   "metadata": {},
   "outputs": [
    {
     "name": "stdout",
     "output_type": "stream",
     "text": [
      "훈련: 0.399\n",
      "테스트: 0.399\n"
     ]
    }
   ],
   "source": [
    "#약한규제\n",
    "logreg1 = LogisticRegression(C=0.01).fit(x_train, y_train)\n",
    "\n",
    "print(\"훈련: {:.3f}\".format(logreg1.score(x_train, y_train)))\n",
    "print(\"테스트: {:.3f}\".format(logreg1.score(x_test, y_test)))"
   ]
  },
  {
   "cell_type": "code",
   "execution_count": 42,
   "metadata": {},
   "outputs": [
    {
     "name": "stdout",
     "output_type": "stream",
     "text": [
      "훈련: 0.399\n",
      "테스트: 0.398\n"
     ]
    }
   ],
   "source": [
    "#강한규제\n",
    "logreg2 = LogisticRegression(C=100).fit(x_train, y_train)\n",
    "\n",
    "print(\"훈련: {:.3f}\".format(logreg2.score(x_train, y_train)))\n",
    "print(\"테스트: {:.3f}\".format(logreg2.score(x_test, y_test)))"
   ]
  },
  {
   "cell_type": "code",
   "execution_count": 43,
   "metadata": {},
   "outputs": [
    {
     "data": {
      "text/plain": [
       "0.39885974914481187"
      ]
     },
     "execution_count": 43,
     "metadata": {},
     "output_type": "execute_result"
    }
   ],
   "source": [
    "from sklearn.model_selection import GridSearchCV\n",
    "\n",
    "# 파라메터 후보\n",
    "param_grid = {'C': [0.001, 0.01, 0.1, 1, 10, 100],\n",
    "              'penalty': ['l1', 'l2']}\n",
    "\n",
    "# 그리드 서치 진행\n",
    "grid_search = GridSearchCV(LogisticRegression(), param_grid, cv=5)        \n",
    "\n",
    "\n",
    "grid_search.fit(x_train, y_train)\n",
    "grid_search.score(x_test, y_test)"
   ]
  }
 ],
 "metadata": {
  "kernelspec": {
   "display_name": "base",
   "language": "python",
   "name": "python3"
  },
  "language_info": {
   "codemirror_mode": {
    "name": "ipython",
    "version": 3
   },
   "file_extension": ".py",
   "mimetype": "text/x-python",
   "name": "python",
   "nbconvert_exporter": "python",
   "pygments_lexer": "ipython3",
   "version": "3.9.16"
  },
  "orig_nbformat": 4
 },
 "nbformat": 4,
 "nbformat_minor": 2
}
