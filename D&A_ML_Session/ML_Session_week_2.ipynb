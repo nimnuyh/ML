{
 "cells": [
  {
   "attachments": {},
   "cell_type": "markdown",
   "metadata": {},
   "source": [
    "### 2020 KMU D&A Machine Learning Session Week 2"
   ]
  },
  {
   "cell_type": "code",
   "execution_count": 1,
   "metadata": {},
   "outputs": [],
   "source": [
    "import pandas as pd \n",
    "import numpy as np\n",
    "import warnings\n",
    "\n",
    "warnings.filterwarnings(action='ignore')"
   ]
  },
  {
   "attachments": {},
   "cell_type": "markdown",
   "metadata": {},
   "source": [
    "#### 데이터 불러오기"
   ]
  },
  {
   "cell_type": "code",
   "execution_count": 2,
   "metadata": {},
   "outputs": [],
   "source": [
    "cust_tr = pd.read_csv('data/w2/cust_train.csv', encoding = 'utf-8') #회원\n",
    "product_tr = pd.read_csv('data/w2/product_train.csv',encoding = 'utf-8') #상품구매\n",
    "search_tr = pd.read_csv('data/w2/search_train.csv',encoding = 'utf-8') #검색어\n",
    "session_tr = pd.read_csv('data/w2/session_train.csv',encoding = 'utf-8') #세션"
   ]
  },
  {
   "cell_type": "code",
   "execution_count": 3,
   "metadata": {},
   "outputs": [],
   "source": [
    "cust_te = pd.read_csv('data/w2/cust_test.csv', encoding = 'utf-8')\n",
    "product_te = pd.read_csv('data/w2/product_test.csv',encoding = 'utf-8')\n",
    "search_te = pd.read_csv('data/w2/search_test.csv',encoding = 'utf-8')\n",
    "session_te = pd.read_csv('data/w2/session_test.csv',encoding = 'utf-8')"
   ]
  },
  {
   "cell_type": "code",
   "execution_count": 4,
   "metadata": {},
   "outputs": [],
   "source": [
    "master = pd.read_csv('data/w2/master.csv', encoding = 'utf-8') #상품분류"
   ]
  },
  {
   "attachments": {},
   "cell_type": "markdown",
   "metadata": {},
   "source": [
    "#### 데이터 전처리"
   ]
  },
  {
   "cell_type": "code",
   "execution_count": 5,
   "metadata": {},
   "outputs": [],
   "source": [
    "train = pd.merge(product_tr, session_tr, on = ['CLNT_ID','SESS_ID'])\n",
    "train = pd.merge(train, search_tr, on = ['CLNT_ID','SESS_ID'])\n",
    "train = pd.merge(train, master, on = 'PD_C')"
   ]
  },
  {
   "cell_type": "code",
   "execution_count": 6,
   "metadata": {},
   "outputs": [],
   "source": [
    "test = pd.merge(product_te, session_te, on = ['CLNT_ID','SESS_ID'])\n",
    "test = pd.merge(test, search_te, on = ['CLNT_ID','SESS_ID'])\n",
    "test = pd.merge(test, master, on = 'PD_C')"
   ]
  },
  {
   "cell_type": "code",
   "execution_count": 7,
   "metadata": {},
   "outputs": [],
   "source": [
    "train['PD_BUY_AM']  = train['PD_BUY_AM'].map(lambda x: int(str(x).replace(',','')) )\n",
    "train['PD_BUY_CT']  = train['PD_BUY_CT'].map(lambda x: int(str(x).replace(',','')) )\n",
    "test['PD_BUY_AM']  = test['PD_BUY_AM'].map(lambda x: int(str(x).replace(',','')) )\n",
    "test['PD_BUY_CT']  = test['PD_BUY_CT'].map(lambda x: int(str(x).replace(',','')) )"
   ]
  },
  {
   "attachments": {},
   "cell_type": "markdown",
   "metadata": {},
   "source": [
    "#### Feature 생성"
   ]
  },
  {
   "cell_type": "code",
   "execution_count": 8,
   "metadata": {},
   "outputs": [],
   "source": [
    "features = []\n",
    "features_te = []"
   ]
  },
  {
   "cell_type": "code",
   "execution_count": 9,
   "metadata": {},
   "outputs": [],
   "source": [
    "# 총구매액, 구매건수, 평균구매액, 최대구매액\n",
    "train['AMOUNT'] = train['PD_BUY_AM'] * train['PD_BUY_CT']\n",
    "test['AMOUNT'] = test['PD_BUY_AM'] * test['PD_BUY_CT']"
   ]
  },
  {
   "cell_type": "code",
   "execution_count": 10,
   "metadata": {},
   "outputs": [],
   "source": [
    "f = train.groupby('CLNT_ID')['AMOUNT'].agg([('총구매액', np.sum),\n",
    "                                            ('구매건수', np.size),\n",
    "                                            ('평균구매액', lambda x : np.round(np.mean(x))),\n",
    "                                            ('최대구매액', np.max)]).reset_index()\n",
    "features.append(f)\n",
    "\n",
    "f_te = test.groupby('CLNT_ID')['AMOUNT'].agg([('총구매액', np.sum),\n",
    "                                            ('구매건수', np.size),\n",
    "                                            ('평균구매액', lambda x : np.round(np.mean(x))),\n",
    "                                            ('최대구매액', np.max)]).reset_index()\n",
    "features_te.append(f_te)"
   ]
  },
  {
   "cell_type": "code",
   "execution_count": 12,
   "metadata": {},
   "outputs": [],
   "source": [
    "# 주말방문비율\n",
    "train['date'] = pd.to_datetime(train['SESS_DT'], format= '%Y%m%d')\n",
    "test['date'] = pd.to_datetime(test['SESS_DT'], format= '%Y%m%d')"
   ]
  },
  {
   "cell_type": "code",
   "execution_count": 13,
   "metadata": {},
   "outputs": [],
   "source": [
    "f = train.groupby('CLNT_ID')['date'].agg([\n",
    "    ('주말방문비율', lambda x: np.mean(x.dt.dayofweek>4))]).reset_index()\n",
    "features.append(f)\n",
    "\n",
    "f_te = test.groupby('CLNT_ID')['date'].agg([\n",
    "    ('주말방문비율', lambda x: np.mean(x.dt.dayofweek>4))]).reset_index()\n",
    "features_te.append(f_te)"
   ]
  },
  {
   "cell_type": "code",
   "execution_count": 14,
   "metadata": {},
   "outputs": [],
   "source": [
    "#계절방문비율\n",
    "f = train.groupby('CLNT_ID')['date'].agg([\n",
    "    ('봄-구매비율', lambda x: np.mean( x.dt.month.isin([3,4,5]))),\n",
    "    ('여름-구매비율', lambda x: np.mean( x.dt.month.isin([6,7,8]))),\n",
    "    ('가을-구매비율', lambda x: np.mean(x.dt.month.isin([9,10,11]))),\n",
    "    ('겨울-구매비율', lambda x: np.mean( x.dt.month.isin([1,2,12])))\n",
    "]).reset_index()\n",
    "features.append(f)"
   ]
  },
  {
   "cell_type": "code",
   "execution_count": 15,
   "metadata": {},
   "outputs": [],
   "source": [
    "f_te = test.groupby('CLNT_ID')['date'].agg([\n",
    "    ('봄-구매비율', lambda x: np.mean( x.dt.month.isin([3,4,5]))),\n",
    "    ('여름-구매비율', lambda x: np.mean( x.dt.month.isin([6,7,8]))),\n",
    "    ('가을-구매비율', lambda x: np.mean(x.dt.month.isin([9,10,11]))),\n",
    "    ('겨울-구매비율', lambda x: np.mean( x.dt.month.isin([1,2,12])))\n",
    "]).reset_index()\n",
    "features_te.append(f_te)"
   ]
  },
  {
   "attachments": {},
   "cell_type": "markdown",
   "metadata": {},
   "source": [
    "#### Merge features"
   ]
  },
  {
   "cell_type": "code",
   "execution_count": 16,
   "metadata": {},
   "outputs": [],
   "source": [
    "data = pd.DataFrame({'CLNT_ID': train.CLNT_ID.unique()})\n",
    "for f in features :\n",
    "    data = pd.merge(data, f, how='left')\n",
    "    \n",
    "data = data.fillna(0)"
   ]
  },
  {
   "cell_type": "code",
   "execution_count": 17,
   "metadata": {},
   "outputs": [],
   "source": [
    "data_te = pd.DataFrame({'CLNT_ID': test.CLNT_ID.unique()})\n",
    "for f in features_te :\n",
    "    data_te = pd.merge(data_te, f, how='left')\n",
    "    \n",
    "data_te = data_te.fillna(0)"
   ]
  },
  {
   "attachments": {},
   "cell_type": "markdown",
   "metadata": {},
   "source": [
    "#### 새로운 numeric 변수 추가하기"
   ]
  },
  {
   "cell_type": "code",
   "execution_count": 18,
   "metadata": {},
   "outputs": [],
   "source": [
    "# 구매주기\n",
    "f = train.groupby('CLNT_ID')['date'].agg([\n",
    "    ('구매주기', lambda x: int(((x.max() - x.min()).days) / x.nunique())),\n",
    "]).reset_index()"
   ]
  },
  {
   "cell_type": "code",
   "execution_count": 19,
   "metadata": {},
   "outputs": [],
   "source": [
    "f_te = test.groupby('CLNT_ID')['date'].agg([\n",
    "    ('구매주기', lambda x: int(((x.max() - x.min()).days) / x.nunique())),\n",
    "]).reset_index()"
   ]
  },
  {
   "cell_type": "code",
   "execution_count": 20,
   "metadata": {},
   "outputs": [],
   "source": [
    "# 기기 유형별 구매비율\n",
    "f = train.groupby('CLNT_ID')['DVC_CTG_NM'].agg([\n",
    "    ('Desktop-구매비율', lambda x: np.mean(x == 'desktop')),\n",
    "    ('Mobile-구매비율', lambda x: np.mean(x == 'mobile')),\n",
    "    ('Tablet-구매비율', lambda x: np.mean(x == 'tablet')),\n",
    "]).reset_index()"
   ]
  },
  {
   "cell_type": "code",
   "execution_count": 21,
   "metadata": {},
   "outputs": [],
   "source": [
    "f_te = test.groupby('CLNT_ID')['DVC_CTG_NM'].agg([\n",
    "    ('Desktop-구매비율', lambda x: np.mean(x == 'desktop')),\n",
    "    ('Mobile-구매비율', lambda x: np.mean(x == 'mobile')),\n",
    "    ('Tablet-구매비율', lambda x: np.mean(x == 'tablet')),\n",
    "]).reset_index()"
   ]
  }
 ],
 "metadata": {
  "kernelspec": {
   "display_name": "base",
   "language": "python",
   "name": "python3"
  },
  "language_info": {
   "codemirror_mode": {
    "name": "ipython",
    "version": 3
   },
   "file_extension": ".py",
   "mimetype": "text/x-python",
   "name": "python",
   "nbconvert_exporter": "python",
   "pygments_lexer": "ipython3",
   "version": "3.9.16"
  },
  "orig_nbformat": 4
 },
 "nbformat": 4,
 "nbformat_minor": 2
}
